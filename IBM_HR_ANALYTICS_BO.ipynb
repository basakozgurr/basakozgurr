{
  "nbformat": 4,
  "nbformat_minor": 0,
  "metadata": {
    "colab": {
      "provenance": [],
      "mount_file_id": "1sd_lcQqM4cnKjJnoycKL7JPNwuHxpfxB",
      "authorship_tag": "ABX9TyMhn2hzqXMpFAhKqoA0TuZV",
      "include_colab_link": true
    },
    "kernelspec": {
      "name": "python3",
      "display_name": "Python 3"
    },
    "language_info": {
      "name": "python"
    }
  },
  "cells": [
    {
      "cell_type": "markdown",
      "metadata": {
        "id": "view-in-github",
        "colab_type": "text"
      },
      "source": [
        "<a href=\"https://colab.research.google.com/github/basakozgurr/basakozgurr/blob/main/IBM_HR_ANALYTICS_BO.ipynb\" target=\"_parent\"><img src=\"https://colab.research.google.com/assets/colab-badge.svg\" alt=\"Open In Colab\"/></a>"
      ]
    },
    {
      "cell_type": "code",
      "source": [
        "import warnings\n",
        "import numpy as np\n",
        "import pandas as pd\n",
        "import seaborn as sns\n",
        "import missingno as msno\n",
        "import matplotlib.pyplot as plt\n",
        "import scipy.stats as stats\n",
        "from sklearn.ensemble import RandomForestClassifier, GradientBoostingClassifier\n",
        "from sklearn.svm import SVC\n",
        "from sklearn.metrics import accuracy_score, confusion_matrix, classification_report\n",
        "from imblearn.over_sampling import SMOTE\n",
        "from sklearn.model_selection import train_test_split, GridSearchCV\n",
        "from sklearn.ensemble import RandomForestClassifier\n",
        "from sklearn.preprocessing import LabelEncoder\n"
      ],
      "metadata": {
        "execution": {
          "iopub.status.busy": "2024-07-03T06:16:30.310309Z",
          "iopub.execute_input": "2024-07-03T06:16:30.310802Z",
          "iopub.status.idle": "2024-07-03T06:16:32.707167Z",
          "shell.execute_reply.started": "2024-07-03T06:16:30.310772Z",
          "shell.execute_reply": "2024-07-03T06:16:32.705862Z"
        },
        "trusted": true,
        "id": "bdRFwsQSzUgm"
      },
      "execution_count": null,
      "outputs": []
    },
    {
      "cell_type": "markdown",
      "source": [
        "#### Veri Setinin yüklenmesi"
      ],
      "metadata": {
        "id": "m-8bsXsTzUgn"
      }
    },
    {
      "cell_type": "code",
      "source": [
        "df = pd.read_csv(\"Employee.csv\")\n"
      ],
      "metadata": {
        "execution": {
          "iopub.status.busy": "2024-07-03T06:16:32.712965Z",
          "iopub.execute_input": "2024-07-03T06:16:32.713356Z",
          "iopub.status.idle": "2024-07-03T06:16:32.753308Z",
          "shell.execute_reply.started": "2024-07-03T06:16:32.713327Z",
          "shell.execute_reply": "2024-07-03T06:16:32.752097Z"
        },
        "trusted": true,
        "id": "ok3OoxShzUgn"
      },
      "execution_count": null,
      "outputs": []
    },
    {
      "cell_type": "code",
      "source": [
        "pd.set_option('display.max_columns', None)  # Tüm sütunları göster\n",
        "pd.set_option('display.width', 1000)"
      ],
      "metadata": {
        "execution": {
          "iopub.status.busy": "2024-07-03T06:16:32.755074Z",
          "iopub.execute_input": "2024-07-03T06:16:32.75551Z",
          "iopub.status.idle": "2024-07-03T06:16:32.761688Z",
          "shell.execute_reply.started": "2024-07-03T06:16:32.755469Z",
          "shell.execute_reply": "2024-07-03T06:16:32.760376Z"
        },
        "trusted": true,
        "id": "dH6GL8rVzUgo"
      },
      "execution_count": null,
      "outputs": []
    },
    {
      "cell_type": "code",
      "source": [
        "df.head()"
      ],
      "metadata": {
        "execution": {
          "iopub.status.busy": "2024-07-03T06:16:32.76356Z",
          "iopub.execute_input": "2024-07-03T06:16:32.763953Z",
          "iopub.status.idle": "2024-07-03T06:16:32.811082Z",
          "shell.execute_reply.started": "2024-07-03T06:16:32.763923Z",
          "shell.execute_reply": "2024-07-03T06:16:32.809609Z"
        },
        "trusted": true,
        "id": "g41crXedzUgo"
      },
      "execution_count": null,
      "outputs": []
    },
    {
      "cell_type": "code",
      "source": [
        "df.columns"
      ],
      "metadata": {
        "execution": {
          "iopub.status.busy": "2024-07-03T06:16:32.812413Z",
          "iopub.execute_input": "2024-07-03T06:16:32.812763Z",
          "iopub.status.idle": "2024-07-03T06:16:32.821374Z",
          "shell.execute_reply.started": "2024-07-03T06:16:32.812733Z",
          "shell.execute_reply": "2024-07-03T06:16:32.820144Z"
        },
        "trusted": true,
        "id": "hoxK0XGbzUgp"
      },
      "execution_count": null,
      "outputs": []
    },
    {
      "cell_type": "markdown",
      "source": [
        "### Veri Seti Kolonlarını Türkçe İsimleri\n",
        "- Age: Yaş\n",
        "- Attrition: İşten Ayrılma\n",
        "- BusinessTravel: İş Seyahati\n",
        "- DailyRate: Günlük Ücret\n",
        "- Department: Departman\n",
        "- DistanceFromHome: Evden Uzaklık\n",
        "- Education: Eğitim\n",
        "- EducationField: Eğitim Alanı\n",
        "- EmployeeCount: Çalışan Sayısı\n",
        "- EmployeeNumber: Çalışan Numarası\n",
        "- EnvironmentSatisfaction: Çevre Memnuniyeti\n",
        "- Gender: Cinsiyet\n",
        "- HourlyRate: Saatlik Ücret\n",
        "- JobInvolvement: İş Katılımı\n",
        "- JobLevel: İş Seviyesi\n",
        "- JobRole: İş Rolü\n",
        "- JobSatisfaction: İş Memnuniyeti\n",
        "- MaritalStatus: Medeni Durum\n",
        "- MonthlyIncome: Aylık Gelir\n",
        "- MonthlyRate: Aylık Ücret\n",
        "- NumCompaniesWorked: Çalışılan Şirket Sayısı\n",
        "- Over18: 18 Yaş Üzeri\n",
        "- OverTime: Fazla Mesai\n",
        "- PercentSalaryHike: Maaş Artış Yüzdesi\n",
        "- PerformanceRating: Performans Değerlendirmesi\n",
        "- RelationshipSatisfaction: İlişki Memnuniyeti\n",
        "- StandardHours: Standart Saatler\n",
        "- StockOptionLevel: Hisse Senedi Opsiyon Seviyesi\n",
        "- TotalWorkingYears: Toplam Çalışma Yılları\n",
        "- TrainingTimesLastYear: Geçen Yılki Eğitim Süreleri\n",
        "- WorkLifeBalance: İş-Yaşam Dengesi\n",
        "- YearsAtCompany: Şirkette Geçen Yıllar\n",
        "- YearsInCurrentRole: Mevcut Roldeki Yıllar\n",
        "- YearsSinceLastPromotion: Son Terfiden Bu Yana Geçen Yıllar\n",
        "- YearsWithCurrManager: Mevcut Yöneticideki Yıllar"
      ],
      "metadata": {
        "id": "3VRwbq79zUgp"
      }
    },
    {
      "cell_type": "code",
      "source": [
        "# Orijinal kolon adlarını Türkçeye çeviren bir sözlük oluşturun\n",
        "column_mapping = {\n",
        "    'Age': 'Yaş',\n",
        "    'Attrition': 'İşten_Ayrılma',\n",
        "    'BusinessTravel': 'İş_Seyahati',\n",
        "    'DailyRate': 'Günlük_Ücret',\n",
        "    'Department': 'Departman',\n",
        "    'DistanceFromHome': 'Evden_Uzaklık',\n",
        "    'Education': 'Eğitim',\n",
        "    'EducationField': 'Eğitim_Alanı',\n",
        "    'EmployeeCount': 'Çalışan_Sayısı',\n",
        "    'EmployeeNumber': 'Çalışan_Numarası',\n",
        "    'EnvironmentSatisfaction': 'Çevre_Memnuniyeti',\n",
        "    'Gender': 'Cinsiyet',\n",
        "    'HourlyRate': 'Saatlik_Ücret',\n",
        "    'JobInvolvement': 'İş_Katılımı',\n",
        "    'JobLevel': 'İş_Seviyesi',\n",
        "    'JobRole': 'İş_Rolü',\n",
        "    'JobSatisfaction': 'İş_Memnuniyeti',\n",
        "    'MaritalStatus': 'Medeni_Durum',\n",
        "    'MonthlyIncome': 'Aylık_Gelir',\n",
        "    'MonthlyRate': 'Aylık_Ücret',\n",
        "    'NumCompaniesWorked': 'Çalışılan_Şirket_Sayısı',\n",
        "    'Over18': '18_Yaş_Üzeri',\n",
        "    'OverTime': 'Fazla_Mesai',\n",
        "    'PercentSalaryHike': 'Maaş_Artış_Yüzdesi',\n",
        "    'PerformanceRating': 'Performans_Değerlendirmesi',\n",
        "    'RelationshipSatisfaction': 'İlişki_Memnuniyeti',\n",
        "    'StandardHours': 'Standart_Saatler',\n",
        "    'StockOptionLevel': 'Hisse_Senedi_Opsiyon_Seviyesi',\n",
        "    'TotalWorkingYears': 'Toplam_Çalışma_Yılları',\n",
        "    'TrainingTimesLastYear': 'Geçen_Yılki_Eğitim_Süreleri',\n",
        "    'WorkLifeBalance': 'İş_Yaşam_Dengesi',\n",
        "    'YearsAtCompany': 'Şirkette_Geçen_Yıllar',\n",
        "    'YearsInCurrentRole': 'Mevcut_Roldeki_Yıllar',\n",
        "    'YearsSinceLastPromotion': 'Son_Terfiden_Bu_Yana_Geçen_Yıllar',\n",
        "    'YearsWithCurrManager': 'Mevcut_Yöneticideki_Yıllar'\n",
        "}\n",
        "\n",
        "# Kolon adlarını değiştirin\n",
        "df.rename(columns=column_mapping, inplace=True)\n",
        "\n",
        "# Değiştirilen kolon adlarını kontrol edin\n",
        "print(df.columns)\n"
      ],
      "metadata": {
        "execution": {
          "iopub.status.busy": "2024-07-03T06:16:32.823347Z",
          "iopub.execute_input": "2024-07-03T06:16:32.824147Z",
          "iopub.status.idle": "2024-07-03T06:16:32.839811Z",
          "shell.execute_reply.started": "2024-07-03T06:16:32.824113Z",
          "shell.execute_reply": "2024-07-03T06:16:32.838423Z"
        },
        "trusted": true,
        "id": "R-4vdSALzUgq"
      },
      "execution_count": null,
      "outputs": []
    },
    {
      "cell_type": "code",
      "source": [
        "df.head()"
      ],
      "metadata": {
        "execution": {
          "iopub.status.busy": "2024-07-03T06:16:32.841844Z",
          "iopub.execute_input": "2024-07-03T06:16:32.842568Z",
          "iopub.status.idle": "2024-07-03T06:16:32.885692Z",
          "shell.execute_reply.started": "2024-07-03T06:16:32.842528Z",
          "shell.execute_reply": "2024-07-03T06:16:32.884099Z"
        },
        "trusted": true,
        "id": "PNbgDBR0zUgq"
      },
      "execution_count": null,
      "outputs": []
    },
    {
      "cell_type": "markdown",
      "source": [
        "#### Veri Seti Özelliklerinin İncelenmesi"
      ],
      "metadata": {
        "id": "e7enFOUJzUgr"
      }
    },
    {
      "cell_type": "code",
      "source": [
        "print(f\"Veri Seti {df.shape[0]} satır ve {df.shape[1]} sütundan oluşmaktadır. {df.ndim} boyutludur ve toplamda {df.size} veri (hücre) bulunmaktadır.\")"
      ],
      "metadata": {
        "execution": {
          "iopub.status.busy": "2024-07-03T06:16:32.890557Z",
          "iopub.execute_input": "2024-07-03T06:16:32.89096Z",
          "iopub.status.idle": "2024-07-03T06:16:32.899572Z",
          "shell.execute_reply.started": "2024-07-03T06:16:32.890925Z",
          "shell.execute_reply": "2024-07-03T06:16:32.898253Z"
        },
        "trusted": true,
        "id": "0BP5HzJWzUgr"
      },
      "execution_count": null,
      "outputs": []
    },
    {
      "cell_type": "code",
      "source": [
        "df.info()"
      ],
      "metadata": {
        "execution": {
          "iopub.status.busy": "2024-07-03T06:16:32.901831Z",
          "iopub.execute_input": "2024-07-03T06:16:32.902266Z",
          "iopub.status.idle": "2024-07-03T06:16:32.942129Z",
          "shell.execute_reply.started": "2024-07-03T06:16:32.902235Z",
          "shell.execute_reply": "2024-07-03T06:16:32.94105Z"
        },
        "trusted": true,
        "id": "G5o2zYpGzUgr"
      },
      "execution_count": null,
      "outputs": []
    },
    {
      "cell_type": "code",
      "source": [
        "# Object tipindeki öznitelikleri ve sayısını göster\n",
        "object_cols = df.select_dtypes(include='object').columns\n",
        "print(f\"Object Tipindeki Öznitelikler: {list(object_cols)}\")\n",
        "print(f\"Sayısı: {len(object_cols)}\\n\")\n",
        "\n",
        "# Int veya Float tipindeki öznitelikleri ve sayısını göster\n",
        "numeric_cols = df.select_dtypes(exclude='object').columns\n",
        "print(f\"Int veya Float Tipindeki Öznitelikler: {list(numeric_cols)}\")\n",
        "print(f\"Sayısı: {len(numeric_cols)}\")"
      ],
      "metadata": {
        "execution": {
          "iopub.status.busy": "2024-07-03T06:16:32.94424Z",
          "iopub.execute_input": "2024-07-03T06:16:32.945118Z",
          "iopub.status.idle": "2024-07-03T06:16:32.954356Z",
          "shell.execute_reply.started": "2024-07-03T06:16:32.945084Z",
          "shell.execute_reply": "2024-07-03T06:16:32.953028Z"
        },
        "trusted": true,
        "id": "VorrslDpzUgs"
      },
      "execution_count": null,
      "outputs": []
    },
    {
      "cell_type": "markdown",
      "source": [
        "#### Veri Setinin İstatistik ÖZelliklerini İnceleme"
      ],
      "metadata": {
        "id": "719aoisVzUgs"
      }
    },
    {
      "cell_type": "code",
      "source": [
        "df.describe().T"
      ],
      "metadata": {
        "execution": {
          "iopub.status.busy": "2024-07-03T06:16:32.956264Z",
          "iopub.execute_input": "2024-07-03T06:16:32.95663Z",
          "iopub.status.idle": "2024-07-03T06:16:33.065577Z",
          "shell.execute_reply.started": "2024-07-03T06:16:32.9566Z",
          "shell.execute_reply": "2024-07-03T06:16:33.064224Z"
        },
        "trusted": true,
        "id": "B59PWmxozUgs"
      },
      "execution_count": null,
      "outputs": []
    },
    {
      "cell_type": "markdown",
      "source": [
        "#### Veri seti genel olarak iyi bir dağılıma sahip ve eksik veri bulunmuyor."
      ],
      "metadata": {
        "id": "qGZUE1EwzUgs"
      }
    },
    {
      "cell_type": "markdown",
      "source": [
        "### Eksik verilerin tespiti"
      ],
      "metadata": {
        "id": "cU0jfpYvzUgt"
      }
    },
    {
      "cell_type": "code",
      "source": [
        "df.isna().sum().sum()"
      ],
      "metadata": {
        "execution": {
          "iopub.status.busy": "2024-07-03T06:16:33.067193Z",
          "iopub.execute_input": "2024-07-03T06:16:33.067717Z",
          "iopub.status.idle": "2024-07-03T06:16:33.082746Z",
          "shell.execute_reply.started": "2024-07-03T06:16:33.067675Z",
          "shell.execute_reply": "2024-07-03T06:16:33.08122Z"
        },
        "trusted": true,
        "id": "WwsIEcv8zUgt"
      },
      "execution_count": null,
      "outputs": []
    },
    {
      "cell_type": "code",
      "source": [
        "# FutureWarning uyarılarını devre dışı bırakın\n",
        "warnings.simplefilter(action='ignore', category=FutureWarning)\n",
        "\n",
        "# Sonsuz değerleri NaN olarak değiştirin\n",
        "df.replace([float('inf'), float('-inf')], pd.NA, inplace=True)\n",
        "\n",
        "# Eksik veri sayısını kontrol edin\n",
        "print(\"Eksik veri sayısı:\\n\", df.isna().sum())\n",
        "\n",
        "# Sayısal değişkenleri belirleyin\n",
        "numerical_vars = [\n",
        "    'Yaş', 'Günlük_Ücret', 'Evden_Uzaklık', 'Eğitim', 'Çevre_Memnuniyeti', 'Saatlik_Ücret',\n",
        "    'İş_Katılımı', 'İş_Seviyesi', 'İş_Memnuniyeti', 'Aylık_Gelir', 'Aylık_Ücret',\n",
        "    'Çalışılan_Şirket_Sayısı', 'Maaş_Artış_Yüzdesi', 'Performans_Değerlendirmesi',\n",
        "    'İlişki_Memnuniyeti', 'Hisse_Senedi_Opsiyon_Seviyesi', 'Toplam_Çalışma_Yılları',\n",
        "    'Geçen_Yılki_Eğitim_Süreleri', 'İş_Yaşam_Dengesi', 'Şirkette_Geçen_Yıllar',\n",
        "    'Mevcut_Roldeki_Yıllar', 'Son_Terfiden_Bu_Yana_Geçen_Yıllar', 'Mevcut_Yöneticideki_Yıllar'\n",
        "]\n"
      ],
      "metadata": {
        "execution": {
          "iopub.status.busy": "2024-07-03T06:16:33.084429Z",
          "iopub.execute_input": "2024-07-03T06:16:33.084799Z",
          "iopub.status.idle": "2024-07-03T06:16:33.107553Z",
          "shell.execute_reply.started": "2024-07-03T06:16:33.084769Z",
          "shell.execute_reply": "2024-07-03T06:16:33.105919Z"
        },
        "trusted": true,
        "id": "0xiMMwi4zUgt"
      },
      "execution_count": null,
      "outputs": []
    },
    {
      "cell_type": "markdown",
      "source": [
        "Veri setinde eksik veri bulunmamaktadır."
      ],
      "metadata": {
        "id": "Arw7_GhpzUgt"
      }
    },
    {
      "cell_type": "markdown",
      "source": [
        "### Veri Sütunlarındaki Benzersiz Değerlerin Sayısı"
      ],
      "metadata": {
        "id": "E2l-KEl9zUgt"
      }
    },
    {
      "cell_type": "code",
      "source": [
        "# Her sütundaki benzersiz değer sayısını hesapla\n",
        "unique_values = df.nunique()\n",
        "\n",
        "# Benzersiz değer sayısını DataFrame olarak göster\n",
        "unique_values_df = unique_values.reset_index()\n",
        "unique_values_df.columns = ['Column', 'UniqueValues']\n",
        "\n",
        "# Sonuçları yazdır\n",
        "print(unique_values_df)\n"
      ],
      "metadata": {
        "execution": {
          "iopub.status.busy": "2024-07-03T06:16:33.109676Z",
          "iopub.execute_input": "2024-07-03T06:16:33.110062Z",
          "iopub.status.idle": "2024-07-03T06:16:33.131424Z",
          "shell.execute_reply.started": "2024-07-03T06:16:33.110026Z",
          "shell.execute_reply": "2024-07-03T06:16:33.12999Z"
        },
        "trusted": true,
        "id": "sgUeE9-zzUgu"
      },
      "execution_count": null,
      "outputs": []
    },
    {
      "cell_type": "code",
      "source": [
        "# \"Çalışan Numarası\" sütunundaki benzersiz değer sayısını hesaplayalım\n",
        "unique_employee_numbers = df['Çalışan_Numarası'].nunique()\n",
        "print(\"Benzersiz Çalışan Sayısı:\", unique_employee_numbers)"
      ],
      "metadata": {
        "execution": {
          "iopub.status.busy": "2024-07-03T06:16:33.133389Z",
          "iopub.execute_input": "2024-07-03T06:16:33.13377Z",
          "iopub.status.idle": "2024-07-03T06:16:33.140882Z",
          "shell.execute_reply.started": "2024-07-03T06:16:33.133738Z",
          "shell.execute_reply": "2024-07-03T06:16:33.139439Z"
        },
        "trusted": true,
        "id": "gmpIauunzUgu"
      },
      "execution_count": null,
      "outputs": []
    },
    {
      "cell_type": "markdown",
      "source": [
        "### Analiz İçin Gereksiz Sütunları Çıkarma"
      ],
      "metadata": {
        "id": "yKiFk5XyzUgu"
      }
    },
    {
      "cell_type": "code",
      "source": [
        "# Sabit değerlere sahip sütunları tespit et\n",
        "constant_columns = [col for col in df.columns if df[col].nunique() == 1]\n",
        "\n",
        "# Sabit değerlere sahip sütunları çıkar\n",
        "df_cleaned = df.drop(columns=constant_columns)\n",
        "\n",
        "print(\"Çıkarılan sütunlar:\", constant_columns)\n",
        "print(\"Temizlenmiş veri seti sütunları:\", df_cleaned.columns)\n"
      ],
      "metadata": {
        "execution": {
          "iopub.status.busy": "2024-07-03T06:16:33.142516Z",
          "iopub.execute_input": "2024-07-03T06:16:33.142904Z",
          "iopub.status.idle": "2024-07-03T06:16:33.172386Z",
          "shell.execute_reply.started": "2024-07-03T06:16:33.142872Z",
          "shell.execute_reply": "2024-07-03T06:16:33.171008Z"
        },
        "trusted": true,
        "id": "SSBlwCFLzUgv"
      },
      "execution_count": null,
      "outputs": []
    },
    {
      "cell_type": "code",
      "source": [
        "# Veri setindeki her bir sütunun değerlerinin frekansını inceleyelim\n",
        "frequencies = {}\n",
        "\n",
        "# Her sütundaki değerlerin frekanslarını hesaplayalım\n",
        "for column in df_cleaned.columns:\n",
        "    frequencies[column] = df_cleaned[column].value_counts()\n",
        "\n",
        "# Her sütunun ilk 10 frekansını 5 grafik olacak şekilde bir arada görselleştirelim\n",
        "columns = list(frequencies.keys())\n",
        "num_columns = 5\n",
        "num_rows = len(columns) // num_columns + (1 if len(columns) % num_columns > 0 else 0)\n",
        "\n",
        "fig, axes = plt.subplots(num_rows, num_columns, figsize=(25, num_rows * 5))\n",
        "axes = axes.flatten()\n",
        "\n",
        "for i, column in enumerate(columns):\n",
        "    freq = frequencies[column].head(10)\n",
        "    axes[i].bar(freq.index, freq.values)\n",
        "    axes[i].set_title(f'Frekanslar için {column} sütunu')\n",
        "    axes[i].set_xlabel(column)\n",
        "    axes[i].set_ylabel('Frekans')\n",
        "\n",
        "# Kalan boş grafikleri gizle\n",
        "for j in range(i + 1, len(axes)):\n",
        "    fig.delaxes(axes[j])\n",
        "\n",
        "plt.tight_layout()\n",
        "plt.show()\n"
      ],
      "metadata": {
        "execution": {
          "iopub.status.busy": "2024-07-03T06:16:33.174482Z",
          "iopub.execute_input": "2024-07-03T06:16:33.175115Z",
          "iopub.status.idle": "2024-07-03T06:16:41.89683Z",
          "shell.execute_reply.started": "2024-07-03T06:16:33.175062Z",
          "shell.execute_reply": "2024-07-03T06:16:41.895347Z"
        },
        "trusted": true,
        "id": "X_4dy-hZzUgv"
      },
      "execution_count": null,
      "outputs": []
    },
    {
      "cell_type": "markdown",
      "source": [
        "  Frekans Analizine Göre;\n",
        "- 35 yaşındaki çalışanlar en yaygın yaş grubudur.\n",
        "- Çoğu çalışan işten ayrılmamış durumda (No), ancak belirli bir kısmı işten ayrılmıştır (Yes).\n",
        "- Çalışanların çoğu nadiren iş seyahati yapmaktadır (Travel_Rarely)\n",
        "- 691 günlük ücreti olan çalışanlar daha yaygındır.\n",
        "- Araştırma ve Geliştirme (Research & Development) departmanı en fazla çalışanı içerirken, Satış (Sales) ve İnsan Kaynakları (Human Resources) departmanları daha az sayıda çalışana sahiptir.\n",
        "- Çoğu çalışan 2 km uzaklıkta yaşarken, 1 km ve 3 km gibi diğer mesafeler de yaygındır.\n",
        "- Eğitim seviyesi 3 en yaygın olanıdır.\n",
        "- Yaşam Bilimleri (Life Sciences) en yaygın eğitim alanıdır.\n",
        "- Çalışanların çevre memnuniyet seviyesi 3 en yaygın olanıdır.\n",
        "- Erkek çalışanlar (Male) kadın çalışanlardan (Female) daha yaygındır.\n",
        "- 66 saatlik ücreti olan çalışanlar daha yaygındır.\n",
        "- İş katılımı seviyesi 3 en yaygın olanıdır.\n",
        "- Çalışanların iş seviyesi 1 en yaygın olanıdır.\n",
        "- Satış Yöneticisi (Sales Executive) en yaygın iş rolüdür.\n",
        "- Çalışanların iş memnuniyet seviyesi 4 en yaygın olanıdır.\n",
        "- Evli çalışanlar (Married) daha yaygındır.\n",
        "- Belirli gelir aralıkları diğerlerine göre daha yaygındır.\n",
        "- 2342 aylık ücreti olan çalışanlar daha yaygındır.\n",
        "- Çoğu çalışan sadece bir şirkette çalışmıştır.\n",
        "- Çoğu çalışan fazla mesai yapmamaktadır.\n",
        "- Maaş artış yüzdeleri arasında belirli artış yüzdeleri daha yaygın.\n",
        "- Performans seviyesi 3 en yaygın olanıdır.\n",
        "- İlişki Memnuniyet seviyesi 3 en yaygın olanıdır.\n",
        "- Hisse senedi seviyesi 0 en yaygın olanıdır.\n",
        "- 10 yıl çalışma süresi daha yaygındır.\n",
        "- Eğitim süresi 3 en yaygın olanıdır.\n",
        "- İş yaşam dengesi seviyesi 3 en yaygındır.\n",
        "- 5 yıl şirkette çalışma süresi daha yaygındır.\n",
        "- 2 yıl mevcut rolde çalışma süresi daha yaygındır.\n",
        "- 0 yıl terfi süresi daha yaygındır.\n",
        "- 2 yıl mevcut yöneticide çalışma süresi daha yaygındır."
      ],
      "metadata": {
        "id": "D_o9n5lwzUgv"
      }
    },
    {
      "cell_type": "code",
      "source": [
        "df['Cinsiyet'].value_counts().plot(kind='pie', autopct='%1.1f%%')\n",
        "plt.ylabel('')\n",
        "plt.title('Cinsiyete Göre Çalışan Dağılımı')\n",
        "plt.show()\n"
      ],
      "metadata": {
        "execution": {
          "iopub.status.busy": "2024-07-03T06:16:41.898429Z",
          "iopub.execute_input": "2024-07-03T06:16:41.898821Z",
          "iopub.status.idle": "2024-07-03T06:16:42.081235Z",
          "shell.execute_reply.started": "2024-07-03T06:16:41.898784Z",
          "shell.execute_reply": "2024-07-03T06:16:42.079574Z"
        },
        "trusted": true,
        "id": "z3YDiDSTzUgw"
      },
      "execution_count": null,
      "outputs": []
    },
    {
      "cell_type": "code",
      "source": [
        "sns.pairplot(df[['Yaş', 'Aylık_Gelir', 'İş_Memnuniyeti']])\n",
        "plt.suptitle('Çift Değişkenli Dağılım Grafikleri')\n",
        "plt.show()"
      ],
      "metadata": {
        "execution": {
          "iopub.status.busy": "2024-07-03T06:16:42.083732Z",
          "iopub.execute_input": "2024-07-03T06:16:42.084619Z",
          "iopub.status.idle": "2024-07-03T06:16:45.138186Z",
          "shell.execute_reply.started": "2024-07-03T06:16:42.084563Z",
          "shell.execute_reply": "2024-07-03T06:16:45.136844Z"
        },
        "trusted": true,
        "id": "E_TYuAsuzUgw"
      },
      "execution_count": null,
      "outputs": []
    },
    {
      "cell_type": "markdown",
      "source": [
        "- Yaş: Yaşın iş memnuniyeti veya aylık gelir üzerinde belirgin bir etkisi yok gibi görünüyor. Çalışanların yaşı ne olursa olsun, aylık gelir ve iş memnuniyeti değişkenlik gösteriyor.\n",
        "- Aylık Gelir: Aylık gelir ile iş memnuniyeti arasında belirgin bir korelasyon bulunmamakta. Yüksek gelirli çalışanlar da düşük gelirli çalışanlar da çeşitli memnuniyet seviyelerinde yer almakta.\n",
        "- İş Memnuniyeti: İş memnuniyeti seviyeleri oldukça çeşitli ve dağılımlar geniş. Bu, çalışan memnuniyetinin tek bir faktöre bağlı olmadığını, birçok değişkenin bu durumu etkileyebileceğini göstermekte."
      ],
      "metadata": {
        "id": "zkPAxleAzUgw"
      }
    },
    {
      "cell_type": "markdown",
      "source": [
        "### İşten Ayrılma Oranı Analizi"
      ],
      "metadata": {
        "id": "WhzmaV99zUgw"
      }
    },
    {
      "cell_type": "markdown",
      "source": [
        "- Genel İşten Ayrılma Oranı Analizi"
      ],
      "metadata": {
        "id": "w-axgl6wzUgx"
      }
    },
    {
      "cell_type": "code",
      "source": [
        "# Genel işten ayrılma oranı analizi\n",
        "genel_terk_orani = df_cleaned['İşten_Ayrılma'].value_counts(normalize=True) * 100\n",
        "print(\"Genel İşten Ayrılma Oranı:\")\n",
        "print(genel_terk_orani)\n"
      ],
      "metadata": {
        "execution": {
          "iopub.status.busy": "2024-07-03T06:16:45.139958Z",
          "iopub.execute_input": "2024-07-03T06:16:45.140432Z",
          "iopub.status.idle": "2024-07-03T06:16:45.150634Z",
          "shell.execute_reply.started": "2024-07-03T06:16:45.14039Z",
          "shell.execute_reply": "2024-07-03T06:16:45.149256Z"
        },
        "trusted": true,
        "id": "08StpLN2zUg0"
      },
      "execution_count": null,
      "outputs": []
    },
    {
      "cell_type": "markdown",
      "source": [
        "- Departmana Göre İşten Ayrılma Oranı Analizi"
      ],
      "metadata": {
        "id": "IH_cCUKizUg0"
      }
    },
    {
      "cell_type": "code",
      "source": [
        "# Departmana göre işten ayrılma oranı analizi\n",
        "departmana_gore_terk_orani = df_cleaned.groupby('Departman')['İşten_Ayrılma'].value_counts(normalize=True).unstack() * 100\n",
        "print(\"\\nDepartmana Göre İşten Ayrılma Oranı:\")\n",
        "print(departmana_gore_terk_orani)"
      ],
      "metadata": {
        "execution": {
          "iopub.status.busy": "2024-07-03T06:16:45.152534Z",
          "iopub.execute_input": "2024-07-03T06:16:45.153023Z",
          "iopub.status.idle": "2024-07-03T06:16:45.180186Z",
          "shell.execute_reply.started": "2024-07-03T06:16:45.152965Z",
          "shell.execute_reply": "2024-07-03T06:16:45.178873Z"
        },
        "trusted": true,
        "id": "92Z9ZKFszUg0"
      },
      "execution_count": null,
      "outputs": []
    },
    {
      "cell_type": "markdown",
      "source": [
        "- İş Rolüne Göre İşten Ayrılma Oranı Analizi"
      ],
      "metadata": {
        "id": "l_1azD5XzUg0"
      }
    },
    {
      "cell_type": "code",
      "source": [
        "# İş rolüne göre işten ayrılma oranı analizi\n",
        "is_rolune_gore_terk_orani = df_cleaned.groupby('İş_Rolü')['İşten_Ayrılma'].value_counts(normalize=True).unstack() * 100\n",
        "print(\"\\nİş Rolüne Göre İşten Ayrılma Oranı:\")\n",
        "print(is_rolune_gore_terk_orani)"
      ],
      "metadata": {
        "execution": {
          "iopub.status.busy": "2024-07-03T06:16:45.181743Z",
          "iopub.execute_input": "2024-07-03T06:16:45.182159Z",
          "iopub.status.idle": "2024-07-03T06:16:45.200834Z",
          "shell.execute_reply.started": "2024-07-03T06:16:45.182127Z",
          "shell.execute_reply": "2024-07-03T06:16:45.199483Z"
        },
        "trusted": true,
        "id": "wkzfL-ogzUg9"
      },
      "execution_count": null,
      "outputs": []
    },
    {
      "cell_type": "markdown",
      "source": [
        "- İş Seyahati Sıklığına Göre İşten Ayrılma Oranı Analizi"
      ],
      "metadata": {
        "id": "onKEJndGzUg9"
      }
    },
    {
      "cell_type": "code",
      "source": [
        "# İş seyahati sıklığına göre işten ayrılma oranı analizi\n",
        "is_seyahati_gore_terk_orani = df_cleaned.groupby('İş_Seyahati')['İşten_Ayrılma'].value_counts(normalize=True).unstack() * 100\n",
        "print(\"\\nİş Seyahati Sıklığına Göre İşten Ayrılma Oranı:\")\n",
        "print(is_seyahati_gore_terk_orani)"
      ],
      "metadata": {
        "execution": {
          "iopub.status.busy": "2024-07-03T06:16:45.202379Z",
          "iopub.execute_input": "2024-07-03T06:16:45.202762Z",
          "iopub.status.idle": "2024-07-03T06:16:45.229175Z",
          "shell.execute_reply.started": "2024-07-03T06:16:45.202729Z",
          "shell.execute_reply": "2024-07-03T06:16:45.227709Z"
        },
        "trusted": true,
        "id": "zaovIRYozUg9"
      },
      "execution_count": null,
      "outputs": []
    },
    {
      "cell_type": "markdown",
      "source": [
        "### Memnuniyet ve Performans Analizi"
      ],
      "metadata": {
        "id": "6-eCnUidzUg-"
      }
    },
    {
      "cell_type": "markdown",
      "source": [
        "- İş Memnuniyeti ve İşten Ayrılma"
      ],
      "metadata": {
        "id": "NkuVL_oBzUg-"
      }
    },
    {
      "cell_type": "code",
      "source": [
        "# İş memnuniyeti ve işten ayrılma analizi\n",
        "memnuniyet_terk_orani = df_cleaned.groupby('İş_Memnuniyeti')['İşten_Ayrılma'].value_counts(normalize=True).unstack() * 100\n",
        "print(\"\\nİş Memnuniyeti ve İşten Ayrılma Oranı:\")\n",
        "print(memnuniyet_terk_orani)"
      ],
      "metadata": {
        "execution": {
          "iopub.status.busy": "2024-07-03T06:16:45.23057Z",
          "iopub.execute_input": "2024-07-03T06:16:45.231013Z",
          "iopub.status.idle": "2024-07-03T06:16:45.248732Z",
          "shell.execute_reply.started": "2024-07-03T06:16:45.230966Z",
          "shell.execute_reply": "2024-07-03T06:16:45.247558Z"
        },
        "trusted": true,
        "id": "WV24icrXzUg-"
      },
      "execution_count": null,
      "outputs": []
    },
    {
      "cell_type": "markdown",
      "source": [
        "- Çevre Memnuniyeti ve İşten Ayrılma"
      ],
      "metadata": {
        "id": "paIMaovAzUg_"
      }
    },
    {
      "cell_type": "code",
      "source": [
        "# Çevre memnuniyeti ve işten ayrılma analizi\n",
        "cevre_memnuniyeti_terk_orani = df_cleaned.groupby('Çevre_Memnuniyeti')['İşten_Ayrılma'].value_counts(normalize=True).unstack() * 100\n",
        "print(\"\\nÇevre Memnuniyeti ve İşten Ayrılma Oranı:\")\n",
        "print(cevre_memnuniyeti_terk_orani)\n"
      ],
      "metadata": {
        "execution": {
          "iopub.status.busy": "2024-07-03T06:16:45.250601Z",
          "iopub.execute_input": "2024-07-03T06:16:45.250954Z",
          "iopub.status.idle": "2024-07-03T06:16:45.267466Z",
          "shell.execute_reply.started": "2024-07-03T06:16:45.250924Z",
          "shell.execute_reply": "2024-07-03T06:16:45.266072Z"
        },
        "trusted": true,
        "id": "w6M5mtSmzUg_"
      },
      "execution_count": null,
      "outputs": []
    },
    {
      "cell_type": "markdown",
      "source": [
        "- İlişki Memnuniyeti ve İşten Ayrılma"
      ],
      "metadata": {
        "id": "NYaMj5JazUg_"
      }
    },
    {
      "cell_type": "code",
      "source": [
        "# İlişki memnuniyeti ve işten ayrılma analizi\n",
        "iliskı_memnuniyeti_terk_orani = df_cleaned.groupby('İlişki_Memnuniyeti')['İşten_Ayrılma'].value_counts(normalize=True).unstack() * 100\n",
        "print(\"\\nİlişki Memnuniyeti ve İşten Ayrılma Oranı:\")\n",
        "print(iliskı_memnuniyeti_terk_orani)"
      ],
      "metadata": {
        "execution": {
          "iopub.status.busy": "2024-07-03T06:16:45.275421Z",
          "iopub.execute_input": "2024-07-03T06:16:45.275855Z",
          "iopub.status.idle": "2024-07-03T06:16:45.292769Z",
          "shell.execute_reply.started": "2024-07-03T06:16:45.27582Z",
          "shell.execute_reply": "2024-07-03T06:16:45.291099Z"
        },
        "trusted": true,
        "id": "Z4poTgUbzUg_"
      },
      "execution_count": null,
      "outputs": []
    },
    {
      "cell_type": "markdown",
      "source": [
        "- Performans Değerlendirmesi ve İşten Ayrılma"
      ],
      "metadata": {
        "id": "4g_6INehzUhA"
      }
    },
    {
      "cell_type": "code",
      "source": [
        "# Performans değerlendirmesi ve işten ayrılma analizi\n",
        "performans_terk_orani = df_cleaned.groupby('Performans_Değerlendirmesi')['İşten_Ayrılma'].value_counts(normalize=True).unstack() * 100\n",
        "print(\"\\nPerformans Değerlendirmesi ve İşten Ayrılma Oranı:\")\n",
        "print(performans_terk_orani)"
      ],
      "metadata": {
        "execution": {
          "iopub.status.busy": "2024-07-03T06:16:45.294411Z",
          "iopub.execute_input": "2024-07-03T06:16:45.294786Z",
          "iopub.status.idle": "2024-07-03T06:16:45.310695Z",
          "shell.execute_reply.started": "2024-07-03T06:16:45.294754Z",
          "shell.execute_reply": "2024-07-03T06:16:45.30946Z"
        },
        "trusted": true,
        "id": "hOv6Lmg_zUhA"
      },
      "execution_count": null,
      "outputs": []
    },
    {
      "cell_type": "markdown",
      "source": [
        "### Korelasyon Analizi"
      ],
      "metadata": {
        "id": "417R-ii4zUhA"
      }
    },
    {
      "cell_type": "markdown",
      "source": [
        "- İşten Ayrılma ile Diğer Değişkenler Arasındaki Korelasyon"
      ],
      "metadata": {
        "id": "5jbvU110zUhA"
      }
    },
    {
      "cell_type": "code",
      "source": [
        "# Veri tiplerini kontrol edelim\n",
        "print(df_cleaned.dtypes)\n"
      ],
      "metadata": {
        "execution": {
          "iopub.status.busy": "2024-07-03T06:16:45.312524Z",
          "iopub.execute_input": "2024-07-03T06:16:45.312932Z",
          "iopub.status.idle": "2024-07-03T06:16:45.321365Z",
          "shell.execute_reply.started": "2024-07-03T06:16:45.312901Z",
          "shell.execute_reply": "2024-07-03T06:16:45.320135Z"
        },
        "trusted": true,
        "id": "QV2BC1eRzUhB"
      },
      "execution_count": null,
      "outputs": []
    },
    {
      "cell_type": "code",
      "source": [
        "df_cleaned['İşten_Ayrılma'] = df_cleaned['İşten_Ayrılma'].apply(lambda x: 1 if x == 'Yes' else 0)\n",
        "df_cleaned['İş_Seyahati'] = df_cleaned['İş_Seyahati'].map({'Travel_Rarely': 0, 'Travel_Frequently': 1, 'Non-Travel': 2})\n",
        "df_cleaned['Departman'] = df_cleaned['Departman'].map({'Research & Development': 0, 'Sales': 1, 'Human Resources': 2})\n",
        "df_cleaned['Eğitim_Alanı'] = df_cleaned['Eğitim_Alanı'].astype('category').cat.codes\n",
        "df_cleaned['Cinsiyet'] = df_cleaned['Cinsiyet'].map({'Male': 0, 'Female': 1})\n",
        "df_cleaned['İş_Rolü'] = df_cleaned['İş_Rolü'].astype('category').cat.codes\n",
        "df_cleaned['Medeni_Durum'] = df_cleaned['Medeni_Durum'].map({'Single': 0, 'Married': 1, 'Divorced': 2})\n",
        "df_cleaned['Fazla_Mesai'] = df_cleaned['Fazla_Mesai'].map({'Yes': 1, 'No': 0})\n",
        "\n"
      ],
      "metadata": {
        "execution": {
          "iopub.status.busy": "2024-07-03T06:16:45.322822Z",
          "iopub.execute_input": "2024-07-03T06:16:45.323197Z",
          "iopub.status.idle": "2024-07-03T06:16:45.348943Z",
          "shell.execute_reply.started": "2024-07-03T06:16:45.323165Z",
          "shell.execute_reply": "2024-07-03T06:16:45.347766Z"
        },
        "trusted": true,
        "id": "kw2aZVk4zUhB"
      },
      "execution_count": null,
      "outputs": []
    },
    {
      "cell_type": "code",
      "source": [
        "df_cleaned.dtypes"
      ],
      "metadata": {
        "execution": {
          "iopub.status.busy": "2024-07-03T06:16:45.350306Z",
          "iopub.execute_input": "2024-07-03T06:16:45.351591Z",
          "iopub.status.idle": "2024-07-03T06:16:45.36746Z",
          "shell.execute_reply.started": "2024-07-03T06:16:45.351547Z",
          "shell.execute_reply": "2024-07-03T06:16:45.366137Z"
        },
        "trusted": true,
        "id": "YvqREEOyzUhB"
      },
      "execution_count": null,
      "outputs": []
    },
    {
      "cell_type": "code",
      "source": [
        "# Sayısal sütunları seçelim ve yalnızca sayısal sütunları içeren yeni bir veri çerçevesi oluşturalım\n",
        "numeric_df = df_cleaned.select_dtypes(include=['float64', 'int64', 'int'])\n",
        "\n",
        "# Korelasyon matrisini hesaplayalım\n",
        "correlation_matrix = numeric_df.corr()\n",
        "\n",
        "# Korelasyon matrisini görselleştirelim\n",
        "plt.figure(figsize=(12, 8))\n",
        "sns.heatmap(correlation_matrix, annot=True, cmap='coolwarm', linewidths=0.5)\n",
        "plt.title('Korelasyon Matrisi')\n",
        "plt.show()\n"
      ],
      "metadata": {
        "execution": {
          "iopub.status.busy": "2024-07-03T06:16:45.368876Z",
          "iopub.execute_input": "2024-07-03T06:16:45.369271Z",
          "iopub.status.idle": "2024-07-03T06:16:48.430361Z",
          "shell.execute_reply.started": "2024-07-03T06:16:45.369229Z",
          "shell.execute_reply": "2024-07-03T06:16:48.428669Z"
        },
        "trusted": true,
        "id": "vyJZvshDzUhC"
      },
      "execution_count": null,
      "outputs": []
    },
    {
      "cell_type": "markdown",
      "source": [
        "- Pozitif Korelasyonlar:\n",
        "Yaş ve Toplam Çalışma Yılları (0.68)\n",
        "Yaş arttıkça, toplam çalışma yılları da artmaktadır.\n",
        "Yaş ve Şirkette Geçen Yıllar (0.31)\n",
        "Yaşlı çalışanlar şirkette daha uzun süre kalma eğilimindedir.\n",
        "Toplam Çalışma Yılları ve Şirkette Geçen Yıllar (0.53)\n",
        "Deneyimli çalışanlar genellikle daha uzun süre aynı şirkette çalışır.\n",
        "İş Memnuniyeti ve Çevre Memnuniyeti (0.31)\n",
        "Çevre memnuniyeti arttıkça iş memnuniyeti de artar.\n",
        "Mevcut Roldeki Yıllar ve Şirkette Geçen Yıllar (0.77)\n",
        "Şirkette daha uzun süre kalan çalışanlar genellikle aynı rolde de uzun süre kalır.\n",
        "Son Terfiden Bu Yana Geçen Yıllar ve Şirkette Geçen Yıllar (0.55)\n",
        "Şirkette daha uzun süre kalan çalışanların son terfilerinden bu yana daha fazla yıl geçmiştir.\n",
        "Mevcut Yöneticideki Yıllar ve Mevcut Roldeki Yıllar (0.51)\n",
        "Çalışanlar aynı yöneticide uzun süre kaldıklarında aynı rolde de uzun süre kalırlar.\n",
        "- Dikkat Çeken İlişkiler:\n",
        "Maaş artış yüzdesi ve performans değerlendirmesi arasında pozitif bir ilişki vardır (0.15).\n",
        "Bu, yüksek performans gösteren çalışanların daha yüksek maaş artışları aldığını gösterir.\n",
        "İş memnuniyeti ile çevre memnuniyeti arasında pozitif bir ilişki bulunmaktadır (0.31).\n",
        "Bu, çevresinden memnun olan çalışanların işlerinden de memnun olduklarını gösterir.\n",
        "- İşten Ayrılma ile İlişkiler:\n",
        "İşten Ayrılma ile Maaş Artış Yüzdesi (-0.16):\n",
        "Maaş artış yüzdesi arttıkça işten ayrılma oranı azalır.\n",
        "İşten Ayrılma ile Aylık Gelir (-0.16):\n",
        "Aylık gelir arttıkça işten ayrılma oranı azalır.\n",
        "Sonuç:\n",
        "Bu korelasyon matrisi, yaş, çalışma yılları ve memnuniyetin işten ayrılma üzerinde önemli etkileri olduğunu göstermektedir. Yüksek maaş artışları ve aylık gelirler işten ayrılma oranlarını düşürebilirken, çevre ve iş memnuniyeti çalışan bağlılığını artırabilir. Bu bulgular, çalışan memnuniyetini artırmak ve işten ayrılma oranlarını azaltmak için stratejik kararlar almak için kullanılabilir.\n",
        "\n",
        "\n",
        "\n",
        "\n",
        "\n",
        "\n",
        "\n"
      ],
      "metadata": {
        "id": "M6c23gdEzUhC"
      }
    },
    {
      "cell_type": "markdown",
      "source": [
        "#### Performans ve İşten Ayrılma Arasındaki Korelasyon"
      ],
      "metadata": {
        "id": "5233mHA8zUhD"
      }
    },
    {
      "cell_type": "code",
      "source": [
        "# Performans değerlendirmesi ile işten ayrılma arasındaki korelasyon\n",
        "performans_terk_korelasyonu = correlation_matrix.loc['Performans_Değerlendirmesi', 'İşten_Ayrılma']\n",
        "print(f\"Performans Değerlendirmesi ve İşten Ayrılma Arasındaki Korelasyon: {performans_terk_korelasyonu}\")"
      ],
      "metadata": {
        "execution": {
          "iopub.status.busy": "2024-07-03T06:16:48.43219Z",
          "iopub.execute_input": "2024-07-03T06:16:48.43271Z",
          "iopub.status.idle": "2024-07-03T06:16:48.439881Z",
          "shell.execute_reply.started": "2024-07-03T06:16:48.432671Z",
          "shell.execute_reply": "2024-07-03T06:16:48.438481Z"
        },
        "trusted": true,
        "id": "lf9cCxXszUhD"
      },
      "execution_count": null,
      "outputs": []
    },
    {
      "cell_type": "code",
      "source": [
        "# Performans değerlendirmesi ve işten ayrılma analizi\n",
        "sns.boxplot(x='İşten_Ayrılma', y='Performans_Değerlendirmesi', data=df_cleaned)\n",
        "plt.title('Performans Değerlendirmesi ve İşten Ayrılma Arasındaki İlişki')\n",
        "plt.xlabel('İşten Ayrılma')\n",
        "plt.ylabel('Performans Değerlendirmesi')\n",
        "plt.show()"
      ],
      "metadata": {
        "execution": {
          "iopub.status.busy": "2024-07-03T06:16:48.441793Z",
          "iopub.execute_input": "2024-07-03T06:16:48.44226Z",
          "iopub.status.idle": "2024-07-03T06:16:48.746206Z",
          "shell.execute_reply.started": "2024-07-03T06:16:48.442224Z",
          "shell.execute_reply": "2024-07-03T06:16:48.745052Z"
        },
        "trusted": true,
        "id": "AJdT_DryzUhD"
      },
      "execution_count": null,
      "outputs": []
    },
    {
      "cell_type": "markdown",
      "source": [
        "#### İşten Ayrılma Nedenleri Analizi"
      ],
      "metadata": {
        "id": "CvA6lp_HzUhD"
      }
    },
    {
      "cell_type": "markdown",
      "source": [
        "- İşten Ayrılma ile İlişkili Faktörlerin Korelasyonunu İnceleme"
      ],
      "metadata": {
        "id": "KNxIUXWPzUhE"
      }
    },
    {
      "cell_type": "code",
      "source": [
        "# İşten ayrılma ile diğer değişkenler arasındaki korelasyonu yazdıralım\n",
        "attrition_corr = correlation_matrix['İşten_Ayrılma'].sort_values(ascending=False)\n",
        "print(attrition_corr)"
      ],
      "metadata": {
        "execution": {
          "iopub.status.busy": "2024-07-03T06:16:48.748076Z",
          "iopub.execute_input": "2024-07-03T06:16:48.748405Z",
          "iopub.status.idle": "2024-07-03T06:16:48.75654Z",
          "shell.execute_reply.started": "2024-07-03T06:16:48.748377Z",
          "shell.execute_reply": "2024-07-03T06:16:48.755409Z"
        },
        "trusted": true,
        "id": "dQG8-HSOzUhE"
      },
      "execution_count": null,
      "outputs": []
    },
    {
      "cell_type": "markdown",
      "source": [
        "- Fazla mesai ve evden uzaklık, işten ayrılma olasılığını artıran faktörlerdir.\n",
        "- Negatif korelasyon değerleri, değişken arttıkça işten ayrılma olasılığının azaldığını gösterir.\n",
        "- Performans değerlendirmesi ile işten ayrılma arasında çok zayıf bir pozitif ilişki vardır, bu da performans değerlendirmesinin işten ayrılma üzerinde neredeyse hiç etkisi olmadığını gösterir."
      ],
      "metadata": {
        "id": "xIOJq_huzUhE"
      }
    },
    {
      "cell_type": "code",
      "source": [
        "# Sayısal değişkenleri belirleyin\n",
        "numerical_vars = [\n",
        "    'Yaş', 'Günlük_Ücret', 'Evden_Uzaklık', 'Eğitim', 'Çevre_Memnuniyeti', 'Saatlik_Ücret',\n",
        "    'İş_Katılımı', 'İş_Seviyesi', 'İş_Memnuniyeti', 'Aylık_Gelir', 'Aylık_Ücret',\n",
        "    'Çalışılan_Şirket_Sayısı', 'Maaş_Artış_Yüzdesi', 'Performans_Değerlendirmesi',\n",
        "    'İlişki_Memnuniyeti', 'Hisse_Senedi_Opsiyon_Seviyesi', 'Toplam_Çalışma_Yılları',\n",
        "    'Geçen_Yılki_Eğitim_Süreleri', 'İş_Yaşam_Dengesi', 'Şirkette_Geçen_Yıllar',\n",
        "    'Mevcut_Roldeki_Yıllar', 'Son_Terfiden_Bu_Yana_Geçen_Yıllar', 'Mevcut_Yöneticideki_Yıllar'\n",
        "]\n",
        "\n",
        "# Alt grafiklerin yerleşimini belirleyin (6 sütunlu bir grid yapısı)\n",
        "n_cols = 6\n",
        "n_rows = (len(numerical_vars) + n_cols - 1) // n_cols\n",
        "\n",
        "plt.figure(figsize=(20, n_rows * 4))\n",
        "\n",
        "# Her bir sayısal değişken için histogram ve KDE grafikleri oluşturun\n",
        "for i, var in enumerate(numerical_vars):\n",
        "    plt.subplot(n_rows, n_cols, i + 1)\n",
        "    sns.histplot(df[var], kde=True)\n",
        "    plt.title(f'{var} Dağılımı')\n",
        "    plt.xlabel(var)\n",
        "    plt.ylabel('Frekans')\n",
        "\n",
        "plt.tight_layout()\n",
        "plt.show()\n"
      ],
      "metadata": {
        "execution": {
          "iopub.status.busy": "2024-07-03T06:16:48.758609Z",
          "iopub.execute_input": "2024-07-03T06:16:48.759072Z",
          "iopub.status.idle": "2024-07-03T06:16:57.246563Z",
          "shell.execute_reply.started": "2024-07-03T06:16:48.759031Z",
          "shell.execute_reply": "2024-07-03T06:16:57.245437Z"
        },
        "trusted": true,
        "id": "2XPTHs4CzUhF"
      },
      "execution_count": null,
      "outputs": []
    },
    {
      "cell_type": "markdown",
      "source": [
        "- Yaş Dağılımı: Genç çalışan sayısı fazla, 30-35 yaş aralığında bir tepe noktası var. Yaş arttıkça frekans azalıyor.\n",
        "- Günlük Ücret Dağılımı: Ücretler genellikle 500 ile 1000 arasında yoğunlaşıyor.\n",
        "- Evden Uzaklık Dağılımı: Çoğu çalışan iş yerine yakın oturuyor (0-10 km).\n",
        "- Eğitim Dağılımı: Eğitim seviyeleri arasında belirgin farklar var, çoğunlukla orta seviyelerde yoğunlaşmış.\n",
        "- Çevre Memnuniyeti Dağılımı: Çevre memnuniyeti genel olarak yüksek, 4 ve 5 seviyelerinde yoğunlaşmış.\n",
        "- Saatlik Ücret Dağılımı: Ücretler genel olarak 40-60 saat arasında yoğunlaşmış.\n",
        "- İş Katılımı Dağılımı: İşe katılım düşük, bazı çalışanlar yüksek katılım gösteriyor.\n",
        "- İş Seviyesi Dağılımı: Çoğu çalışan orta seviyelerde yer alıyor.\n",
        "- İş Memnuniyeti Dağılımı: Memnuniyet genel olarak yüksek, 4 ve 5 seviyelerinde yoğunlaşmış.\n",
        "- Maaş Artış Yüzdesi Dağılımı: Maaş artışları genellikle düşük oranlarda yoğunlaşmış.\n",
        "- Performans Değerlendirmesi Dağılımı: Performans değerlendirmeleri genellikle 3-4 arasında yoğunlaşmış.\n",
        "- İlişki Memnuniyeti Dağılımı: İlişki memnuniyeti genel olarak ortalama seviyelerde.\n",
        "- İş Yaşam Dengesi Dağılımı: İş yaşam dengesi düşük seviyelerde yoğunlaşmış.\n",
        "- Şirkette Geçen Yıllar Dağılımı: Çalışanlar genellikle 0-5 yıl arası şirkette çalışmış.\n",
        "- Mevcut Roldeki Yıllar Dağılımı: Çoğu çalışan mevcut rolünde 0-5 yıl arasında çalışmış.\n",
        "- Geçen Yıllık Eğitim Süreleri Dağılımı: Eğitim süreleri arasında büyük farklılıklar var, bazıları hiç eğitim almazken bazıları uzun süre eğitim almış.\n",
        "- Hisse Senedi Opsiyon Seviyesi Dağılımı: Opsiyon seviyeleri arasında belirgin farklar var, çoğu çalışan orta seviyelerde yoğunlaşmış.\n",
        "- Toplam Çalışma Yılları Dağılımı: Çalışma yılları genellikle 0-10 yıl arasında yoğunlaşmış.\n",
        "- Son Terfiden Bu Yana Geçen Yıllar Dağılımı: Çoğu çalışan son terfisinden bu yana kısa süre geçmiş.\n",
        "- Mevcut Yöneticiyle Yıllar Dağılımı: Çoğu çalışan mevcut yöneticisiyle 0-5 yıl arasında çalışmış."
      ],
      "metadata": {
        "id": "g1QFxJc1zUhF"
      }
    },
    {
      "cell_type": "code",
      "source": [
        "df.columns"
      ],
      "metadata": {
        "execution": {
          "iopub.status.busy": "2024-07-03T06:16:57.248082Z",
          "iopub.execute_input": "2024-07-03T06:16:57.24848Z",
          "iopub.status.idle": "2024-07-03T06:16:57.257932Z",
          "shell.execute_reply.started": "2024-07-03T06:16:57.248446Z",
          "shell.execute_reply": "2024-07-03T06:16:57.256693Z"
        },
        "trusted": true,
        "id": "2fh8jAqbzUhF"
      },
      "execution_count": null,
      "outputs": []
    },
    {
      "cell_type": "markdown",
      "source": [
        "### İş Seviyesi ve İşten Ayrılma"
      ],
      "metadata": {
        "id": "1xr9ZWF3zUhG"
      }
    },
    {
      "cell_type": "code",
      "source": [
        "# İş Seviyesi ve İşten Ayrılma\n",
        "plt.figure(figsize=(10, 5))\n",
        "sns.boxplot(data=df, x='İşten_Ayrılma', y='İş_Seviyesi')\n",
        "plt.title('İş Seviyesi ve İşten Ayrılma')\n",
        "plt.xlabel('İşten Ayrılma')\n",
        "plt.ylabel('İş Seviyesi')\n",
        "plt.show()\n"
      ],
      "metadata": {
        "execution": {
          "iopub.status.busy": "2024-07-03T06:16:57.259836Z",
          "iopub.execute_input": "2024-07-03T06:16:57.260263Z",
          "iopub.status.idle": "2024-07-03T06:16:57.583324Z",
          "shell.execute_reply.started": "2024-07-03T06:16:57.260229Z",
          "shell.execute_reply": "2024-07-03T06:16:57.581883Z"
        },
        "trusted": true,
        "id": "lIdwv64izUhG"
      },
      "execution_count": null,
      "outputs": []
    },
    {
      "cell_type": "markdown",
      "source": [
        "- İşten ayrılan çalışanlar genellikle daha düşük iş seviyelerinde yoğunlaşmıştır (1-2). Bu, düşük iş seviyelerinin işten ayrılma riskini artırabileceğini gösterir.\n",
        "- İşten ayrılmayan çalışanlar genellikle daha yüksek iş seviyelerinde (2-3) yoğunlaşmıştır.\n",
        "- yüksek iş seviyelerindeki aykırı değerler bu seviyelerdeki (4-5)  bazı çalışanların işten ayrıldığını gösterir."
      ],
      "metadata": {
        "id": "y7XJwtxzzUhG"
      }
    },
    {
      "cell_type": "markdown",
      "source": [
        "### Hipotez Testleri ve İstatistiksel Analiz"
      ],
      "metadata": {
        "id": "VdwmkwoMzUhH"
      }
    },
    {
      "cell_type": "code",
      "source": [
        "# İşten ayrılma grupları arasındaki maaş farkını test edelim\n",
        "t_stat, p_val = stats.ttest_ind(df_cleaned[df_cleaned['İşten_Ayrılma'] == 1]['Aylık_Gelir'],\n",
        "                                df_cleaned[df_cleaned['İşten_Ayrılma'] == 0]['Aylık_Gelir'])\n",
        "print(f\"T-İstatistiği: {t_stat}, P-Değeri: {p_val}\")"
      ],
      "metadata": {
        "execution": {
          "iopub.status.busy": "2024-07-03T06:16:57.585041Z",
          "iopub.execute_input": "2024-07-03T06:16:57.585488Z",
          "iopub.status.idle": "2024-07-03T06:16:57.600726Z",
          "shell.execute_reply.started": "2024-07-03T06:16:57.585444Z",
          "shell.execute_reply": "2024-07-03T06:16:57.599538Z"
        },
        "trusted": true,
        "id": "NCf37iCIzUhH"
      },
      "execution_count": null,
      "outputs": []
    },
    {
      "cell_type": "markdown",
      "source": [
        "T-İstatistiği ve P-Değeri Nedir?\n",
        "- T-İstatistiği: İki grup arasındaki farkın büyüklüğünü gösterir. T-İstatistiği ne kadar büyükse (pozitif veya negatif), gruplar arasındaki fark o kadar anlamlıdır.\n",
        "- P-Değeri: Bu farkın tesadüfi olarak meydana gelme olasılığını gösterir. P-Değeri ne kadar küçükse, farkın tesadüfi olmadığına dair güven o kadar yüksek olur.\n",
        "İstatistiksel Anlamlılık:\n",
        "\n",
        "P-Değeri çok küçüktür (0.000000000714736398535381), bu nedenle işten ayrılanlar ve ayrılmayanlar arasındaki maaş farkı istatistiksel olarak anlamlıdır. Bu farkın tesadüfen oluşma olasılığı son derece düşüktür.\n",
        "- Yön ve Büyüklük:\n",
        "\n",
        "Negatif T-İstatistiği (-6.203935765608938), işten ayrılanların ortalama maaşının işten ayrılmayanların ortalama maaşından daha düşük olduğunu gösterir. Bu, işten ayrılanların daha düşük maaş alıyor olabileceğini gösterir."
      ],
      "metadata": {
        "id": "FiIjUQhbzUhH"
      }
    },
    {
      "cell_type": "markdown",
      "source": [
        "Rastgele Orman Modeli"
      ],
      "metadata": {
        "id": "7BQE_PcAzUhI"
      }
    },
    {
      "cell_type": "code",
      "source": [
        "# Hedef değişkeni belirleme ve veri önişleme\n",
        "# 'İşten_Ayrılma' sütunu hedef değişkenimiz\n",
        "df['İşten_Ayrılma'] = df['İşten_Ayrılma'].apply(lambda x: 1 if x == 'Yes' else 0)\n",
        "\n",
        "# Gerekli sütunları seçme\n",
        "features = ['Yaş', 'Günlük_Ücret', 'Evden_Uzaklık', 'Eğitim', 'Çevre_Memnuniyeti',\n",
        "            'İş_Katılımı', 'İş_Seviyesi', 'İş_Memnuniyeti', 'Aylık_Gelir', 'Çalışılan_Şirket_Sayısı',\n",
        "            'Maaş_Artış_Yüzdesi', 'Toplam_Çalışma_Yılları', 'Geçen_Yılki_Eğitim_Süreleri', 'Şirkette_Geçen_Yıllar']\n",
        "\n",
        "X = df[features]\n",
        "y = df['İşten_Ayrılma']\n",
        "\n",
        "# Eğitim ve test verilerini ayırma\n",
        "X_train, X_test, y_train, y_test = train_test_split(X, y, test_size=0.2, random_state=42)\n",
        "\n",
        "# Rastgele orman modeli oluşturma\n",
        "rf_model = RandomForestClassifier(random_state=42, n_estimators=100)\n",
        "rf_model.fit(X_train, y_train)\n",
        "\n",
        "# Tahmin yapma\n",
        "y_pred_rf = rf_model.predict(X_test)\n",
        "\n",
        "# Modeli değerlendirme\n",
        "print(\"Random Forest Accuracy:\", accuracy_score(y_test, y_pred_rf))\n",
        "print(\"Random Forest Confusion Matrix:\\n\", confusion_matrix(y_test, y_pred_rf))\n",
        "print(\"Random Forest Classification Report:\\n\", classification_report(y_test, y_pred_rf))\n"
      ],
      "metadata": {
        "execution": {
          "iopub.status.busy": "2024-07-03T06:16:57.602695Z",
          "iopub.execute_input": "2024-07-03T06:16:57.603171Z",
          "iopub.status.idle": "2024-07-03T06:16:58.074285Z",
          "shell.execute_reply.started": "2024-07-03T06:16:57.603129Z",
          "shell.execute_reply": "2024-07-03T06:16:58.072507Z"
        },
        "trusted": true,
        "id": "WuhZOGGGzUhI"
      },
      "execution_count": null,
      "outputs": []
    },
    {
      "cell_type": "markdown",
      "source": [
        "Modelimizin doğruluğu %87 civarında, bu oldukça iyi bir sonuç. Ancak, modelin işten ayrılma (1 sınıfı) durumlarını tespit etme yeteneği düşük. Precision, recall ve f1-score gibi metrikler, modelin bu sınıftaki performansının iyileştirilmesi gerektiğini gösteriyor."
      ],
      "metadata": {
        "id": "my0UCPOezUhI"
      }
    },
    {
      "cell_type": "markdown",
      "source": [
        "#### Modeli İyileştirme"
      ],
      "metadata": {
        "id": "af8hPELozUhI"
      }
    },
    {
      "cell_type": "markdown",
      "source": [
        "Modelin performansını iyileştirmek için hiperparametre optimizasyonu yapabilirsiniz. Örneğin, GridSearchCV kullanarak en iyi parametreleri bulabilirsiniz:"
      ],
      "metadata": {
        "id": "YyTUf5sVzUhJ"
      }
    },
    {
      "cell_type": "code",
      "source": [
        "from sklearn.ensemble import GradientBoostingClassifier\n",
        "from sklearn.model_selection import GridSearchCV\n",
        "from sklearn.metrics import accuracy_score, confusion_matrix, classification_report\n",
        "from imblearn.over_sampling import SMOTE\n",
        "\n",
        "# Orijinal veri setinizi yükleyin veya tanımlayın\n",
        "# X ve y değişkenleri burada orijinal özellikler ve hedef etiketler olmalıdır\n",
        "\n",
        "# Veri dengesizliğini gidermek için SMOTE uygulama\n",
        "smote = SMOTE(random_state=42)\n",
        "X_res, y_res = smote.fit_resample(X, y)\n",
        "\n",
        "# GradientBoostingClassifier modelini oluşturma\n",
        "gbc_model = GradientBoostingClassifier(random_state=42)\n",
        "\n",
        "# Hiperparametreleri belirleme\n",
        "param_grid_gbc = {\n",
        "    'n_estimators': [100, 200, 300],\n",
        "    'learning_rate': [0.01, 0.1, 0.05],\n",
        "    'max_depth': [4, 6, 8],\n",
        "    'subsample': [0.8, 0.9, 1.0]\n",
        "}\n",
        "\n",
        "# GridSearchCV uygulama\n",
        "grid_search_gbc = GridSearchCV(estimator=gbc_model, param_grid=param_grid_gbc, cv=5, n_jobs=-1, verbose=2)\n",
        "grid_search_gbc.fit(X_res, y_res)\n",
        "\n",
        "# En iyi parametreler ile model oluşturma\n",
        "best_gbc_model = grid_search_gbc.best_estimator_\n",
        "best_gbc_model.fit(X_res, y_res)\n",
        "\n",
        "# Test veri seti üzerinde tahmin yapma\n",
        "y_pred_gbc = best_gbc_model.predict(X_test)\n",
        "\n",
        "# Modeli değerlendirme\n",
        "print(\"Gradient Boosting Classifier Accuracy:\", accuracy_score(y_test, y_pred_gbc))\n",
        "print(\"Gradient Boosting Classifier Confusion Matrix:\\n\", confusion_matrix(y_test, y_pred_gbc))\n",
        "print(\"Gradient Boosting Classifier Classification Report:\\n\", classification_report(y_test, y_pred_gbc))\n"
      ],
      "metadata": {
        "execution": {
          "iopub.status.busy": "2024-07-03T06:35:44.126241Z",
          "iopub.execute_input": "2024-07-03T06:35:44.126764Z",
          "iopub.status.idle": "2024-07-03T06:40:59.063233Z",
          "shell.execute_reply.started": "2024-07-03T06:35:44.126729Z",
          "shell.execute_reply": "2024-07-03T06:40:59.061713Z"
        },
        "trusted": true,
        "id": "gLzuJgflzUhJ"
      },
      "execution_count": null,
      "outputs": []
    },
    {
      "cell_type": "markdown",
      "source": [
        "Modeli Eğitme ve En İyi Modeli Bulma:"
      ],
      "metadata": {
        "id": "gqJYSKLpzUhJ"
      }
    },
    {
      "cell_type": "code",
      "source": [
        "# Hiperparametreleri belirleme\n",
        "param_grid_gbc = {\n",
        "    'n_estimators': [100, 200, 300],\n",
        "    'learning_rate': [0.01, 0.1, 0.05],\n",
        "    'max_depth': [4, 6, 8],\n",
        "    'subsample': [0.8, 0.9, 1.0]\n",
        "}\n",
        "\n",
        "# GradientBoostingClassifier modeli\n",
        "gbc_model = GradientBoostingClassifier(random_state=42)\n",
        "\n",
        "# GridSearchCV uygulama\n",
        "grid_search_gbc = GridSearchCV(estimator=gbc_model, param_grid=param_grid_gbc, cv=5, n_jobs=-1, verbose=2)\n",
        "grid_search_gbc.fit(X_res, y_res)\n",
        "\n",
        "# En iyi parametreler ile model oluşturma\n",
        "best_gbc_model = grid_search_gbc.best_estimator_\n"
      ],
      "metadata": {
        "execution": {
          "iopub.status.busy": "2024-07-03T06:16:58.629673Z",
          "iopub.status.idle": "2024-07-03T06:16:58.630186Z",
          "shell.execute_reply.started": "2024-07-03T06:16:58.629942Z",
          "shell.execute_reply": "2024-07-03T06:16:58.629963Z"
        },
        "trusted": true,
        "id": "lOgQ9SgFzUhJ"
      },
      "execution_count": null,
      "outputs": []
    },
    {
      "cell_type": "markdown",
      "source": [
        "GridSearchCV ile En İyi Modeli Bulma:"
      ],
      "metadata": {
        "id": "vKvLC3chzUhK"
      }
    },
    {
      "cell_type": "code",
      "source": [
        "from sklearn.ensemble import GradientBoostingClassifier\n",
        "from sklearn.model_selection import GridSearchCV\n",
        "\n",
        "# Parametre ızgarası\n",
        "param_grid = {\n",
        "    'n_estimators': [100, 200, 300],\n",
        "    'learning_rate': [0.01, 0.05, 0.1],\n",
        "    'max_depth': [4, 6, 8],\n",
        "    'subsample': [0.8, 0.9, 1.0]\n",
        "}\n",
        "\n",
        "# Gradient Boosting Classifier modelini oluşturma\n",
        "gbc = GradientBoostingClassifier()\n",
        "\n",
        "# GridSearchCV\n",
        "grid_search_gbc = GridSearchCV(estimator=gbc, param_grid=param_grid, cv=5, n_jobs=-1, verbose=2)\n",
        "\n",
        "# GridSearchCV ile modeli eğitme\n",
        "grid_search_gbc.fit(X_train, y_train)\n",
        "\n",
        "\n",
        "# GridSearchCV ile modeli eğitme\n",
        "grid_search_gbc.fit(X_train, y_train)\n"
      ],
      "metadata": {
        "execution": {
          "iopub.status.busy": "2024-07-03T06:16:58.632528Z",
          "iopub.status.idle": "2024-07-03T06:16:58.633051Z",
          "shell.execute_reply.started": "2024-07-03T06:16:58.632807Z",
          "shell.execute_reply": "2024-07-03T06:16:58.632827Z"
        },
        "trusted": true,
        "id": "qvlwEHcEzUhK"
      },
      "execution_count": null,
      "outputs": []
    },
    {
      "cell_type": "markdown",
      "source": [
        "En İyi Modeli Bulma ve Tahmin Yapma:\n",
        "\n"
      ],
      "metadata": {
        "id": "2uvp6_5NzUhK"
      }
    },
    {
      "cell_type": "code",
      "source": [
        "# En iyi parametreler ile model oluşturma\n",
        "best_gbc_model = grid_search_gbc.best_estimator_\n",
        "\n",
        "# Tahmin yapma\n",
        "y_pred_gbc = best_gbc_model.predict(X_test)\n",
        "\n"
      ],
      "metadata": {
        "execution": {
          "iopub.status.busy": "2024-07-03T06:16:58.634526Z",
          "iopub.status.idle": "2024-07-03T06:16:58.635098Z",
          "shell.execute_reply.started": "2024-07-03T06:16:58.634808Z",
          "shell.execute_reply": "2024-07-03T06:16:58.63483Z"
        },
        "trusted": true,
        "id": "0TFLmd1WzUhL"
      },
      "execution_count": null,
      "outputs": []
    },
    {
      "cell_type": "markdown",
      "source": [
        "Modeli Değerlendirme"
      ],
      "metadata": {
        "id": "0uWij-pHzUhL"
      }
    },
    {
      "cell_type": "code",
      "source": [
        "from sklearn.metrics import accuracy_score, confusion_matrix, classification_report\n",
        "\n",
        "# Modeli değerlendirme\n",
        "print(\"Gradient Boosting Classifier Accuracy:\", accuracy_score(y_test, y_pred_gbc))\n",
        "print(\"Gradient Boosting Classifier Confusion Matrix:\\n\", confusion_matrix(y_test, y_pred_gbc))\n",
        "print(\"Gradient Boosting Classifier Classification Report:\\n\", classification_report(y_test, y_pred_gbc))\n",
        "\n",
        "# En iyi parametreleri yazdırma\n",
        "print(\"En iyi parametreler:\", grid_search_gbc.best_params_)\n"
      ],
      "metadata": {
        "execution": {
          "iopub.status.busy": "2024-07-03T06:16:58.637645Z",
          "iopub.status.idle": "2024-07-03T06:16:58.638092Z",
          "shell.execute_reply.started": "2024-07-03T06:16:58.637859Z",
          "shell.execute_reply": "2024-07-03T06:16:58.637884Z"
        },
        "trusted": true,
        "id": "Utb8-q9UzUhL"
      },
      "execution_count": null,
      "outputs": []
    },
    {
      "cell_type": "markdown",
      "source": [],
      "metadata": {
        "id": "1iLpWSF9zUhL"
      }
    },
    {
      "cell_type": "markdown",
      "source": [
        "#### Gradient Boosting Classifier Sonuçları"
      ],
      "metadata": {
        "id": "fnfj19ZvzUhM"
      }
    },
    {
      "cell_type": "code",
      "source": [
        "from sklearn.metrics import accuracy_score, confusion_matrix, classification_report\n",
        "\n",
        "# En iyi model ile tahmin yapma\n",
        "y_pred_gbc = best_gbc_model.predict(X_test)\n",
        "\n",
        "# Sonuçları değerlendirme\n",
        "print(\"Gradient Boosting Classifier Accuracy:\", accuracy_score(y_test, y_pred_gbc))\n",
        "print(\"Gradient Boosting Classifier Confusion Matrix:\\n\", confusion_matrix(y_test, y_pred_gbc))\n",
        "print(\"Gradient Boosting Classifier Classification Report:\\n\", classification_report(y_test, y_pred_gbc))\n"
      ],
      "metadata": {
        "execution": {
          "iopub.status.busy": "2024-07-03T06:16:58.639153Z",
          "iopub.status.idle": "2024-07-03T06:16:58.639613Z",
          "shell.execute_reply.started": "2024-07-03T06:16:58.639372Z",
          "shell.execute_reply": "2024-07-03T06:16:58.639409Z"
        },
        "trusted": true,
        "id": "Zh1zKr4jzUhM"
      },
      "execution_count": null,
      "outputs": []
    },
    {
      "cell_type": "markdown",
      "source": [
        "Model Performansı:"
      ],
      "metadata": {
        "id": "PBAWuKM7zUhM"
      }
    },
    {
      "cell_type": "markdown",
      "source": [
        "Accuracy (Doğruluk): 0.8775510204081632\n",
        "\n",
        "Doğruluk, tüm doğru tahminlerin toplam tahminlere oranını gösterir. Yani, modelinizin genel doğruluğu %87.76'dır. Bu, modelinizin oldukça iyi performans gösterdiğini gösterir.\n",
        "Confusion Matrix (Karışıklık Matrisi):\n",
        "[[250   5]\n",
        " [ 31   8]]\n",
        "Modeliniz, 250 doğru negatif (gerçekten işten ayrılmayanları doğru tahmin etmiş) ve 8 doğru pozitif (gerçekten işten ayrılanları doğru tahmin etmiş) tahmin yapmış.\n",
        "Yanlış negatif (gerçekten işten ayrılanları yanlış tahmin etmiş) sayısı 31 ve yanlış pozitif (gerçekten işten ayrılmayanları yanlış tahmin etmiş) sayısı 5'tir."
      ],
      "metadata": {
        "id": "Ey0j52b5zUhN"
      }
    },
    {
      "cell_type": "markdown",
      "source": [
        "Classification Report (Sınıflandırma Raporu):\n",
        "              precision    recall  f1-score   support\n",
        "\n",
        "         0       0.89      0.98      0.93       255\n",
        "         1       0.62      0.21      0.31        39\n",
        "\n",
        "  accuracy                           0.88       294\n",
        " macro avg       0.75      0.59      0.62       294\n",
        "weighted avg 0.85 0.88 0.85 294\n",
        "- **Precision (Kesinlik)**: Pozitif tahminlerin ne kadarının doğru olduğunu gösterir. \"1\" sınıfı için precision değeri 0.62'dir, yani model işten ayrılmayı tahmin ettiğinde %62 doğru tahmin yapmış.\n",
        "- **Recall (Duyarlılık)**: Gerçek pozitiflerin ne kadarının doğru tahmin edildiğini gösterir. \"1\" sınıfı için recall değeri 0.21'dir, yani gerçek işten ayrılmaların %21'i doğru tahmin edilmiştir.\n",
        "- **F1-Score**: Precision ve recall'un harmonik ortalamasıdır. \"1\" sınıfı için F1-score değeri 0.31'dir.\n",
        "- **Macro Average**: Her iki sınıfın ortalamasıdır ve dengeli veri setlerinde kullanışlıdır. F1-score için macro avg değeri 0.62'dir.\n",
        "- **Weighted Average**: Her iki sınıfın ortalamasıdır ve sınıf dağılımını dikkate alır. F1-score için weighted avg değeri 0.85'tir.\n",
        "\n",
        "### Değerlendirme:\n",
        "\n",
        "- Modelinizin doğruluğu yüksek (%87.76), bu da modelin genel olarak iyi performans gösterdiğini gösteriyor.\n",
        "- Ancak, sınıf dengesizliği nedeniyle \"1\" sınıfı için recall ve F1-score değerleri düşük. Bu, modelinizin işten ayrılmaları tespit etmede zorlandığını gösterir.\n",
        "- Daha dengeli bir sınıf dağılımı sağlamak veya SMOTE gibi yöntemler kullanarak veri setini dengelemek, model performansını artırabilir.\n",
        "\n",
        "Sonuç olarak, modeliniz genel olarak iyi performans gösteriyor, ancak işten ayrılmaları tespit etme konusunda iyileştirme yapmanız faydalı olabilir. Özellikle düşük recall ve F1-score değerleri, işten ayrılmaları kaçırma riskinizin yüksek olduğunu gösteriyor. Bu sonuçlarla ilgili daha fazla iyileştirme yapmak isterseniz, veri dengesizliğini ele almak iyi bir adım olabilir.\n"
      ],
      "metadata": {
        "id": "sBMlWUwszUhN"
      }
    },
    {
      "cell_type": "markdown",
      "source": [
        "### XGBoost (Extreme Gradient Boosting) Modeli"
      ],
      "metadata": {
        "id": "IN_wTovIzUhN"
      }
    },
    {
      "cell_type": "code",
      "source": [
        "import xgboost as xgb\n",
        "from sklearn.model_selection import GridSearchCV\n",
        "from sklearn.metrics import accuracy_score, confusion_matrix, classification_report\n",
        "\n",
        "# XGBoost model nesnesi oluşturma\n",
        "xgb_model = xgb.XGBClassifier(random_state=42)\n",
        "\n",
        "# Hiperparametreler için grid\n",
        "param_grid = {\n",
        "    'learning_rate': [0.01, 0.05, 0.1],\n",
        "    'max_depth': [4, 6, 8],\n",
        "    'n_estimators': [100, 200, 300],\n",
        "    'subsample': [0.8, 0.9, 1.0]\n",
        "}\n",
        "\n",
        "# GridSearchCV ile en iyi parametreleri bulma\n",
        "grid_search_xgb = GridSearchCV(estimator=xgb_model, param_grid=param_grid, cv=5, n_jobs=-1, verbose=2)\n",
        "grid_search_xgb.fit(X_train, y_train)\n",
        "\n",
        "# En iyi modeli alma\n",
        "best_xgb_model = grid_search_xgb.best_estimator_\n",
        "\n",
        "# Tahmin yapma\n",
        "y_pred_xgb = best_xgb_model.predict(X_test)\n",
        "\n",
        "# Modeli değerlendirme\n",
        "print(\"XGBoost Classifier Accuracy:\", accuracy_score(y_test, y_pred_xgb))\n",
        "print(\"XGBoost Classifier Confusion Matrix:\\n\", confusion_matrix(y_test, y_pred_xgb))\n",
        "print(\"XGBoost Classifier Classification Report:\\n\", classification_report(y_test, y_pred_xgb))\n",
        "\n",
        "# En iyi parametreler\n",
        "print(\"En iyi parametreler:\", grid_search_xgb.best_params_)\n"
      ],
      "metadata": {
        "execution": {
          "iopub.status.busy": "2024-07-03T06:16:58.641089Z",
          "iopub.status.idle": "2024-07-03T06:16:58.641497Z",
          "shell.execute_reply.started": "2024-07-03T06:16:58.641304Z",
          "shell.execute_reply": "2024-07-03T06:16:58.641321Z"
        },
        "trusted": true,
        "id": "crkD6KmuzUhN"
      },
      "execution_count": null,
      "outputs": []
    },
    {
      "cell_type": "markdown",
      "source": [
        " XGBoost, özellikle sınıflandırma ve regresyon problemlerinde yüksek performans gösteren bir gradient boosting algoritmasıdır."
      ],
      "metadata": {
        "id": "eTabI7rszUhO"
      }
    },
    {
      "cell_type": "markdown",
      "source": [
        "- Random Forest Classifier Sonuçları:Accuracy (Doğruluk): 0.8333333333333334\n",
        "- Gradient Boosting Classifier Sonuçları :Accuracy (Doğruluk): 0.8775510204081632\n",
        "- XGBoost Classifier Sonuçları:Accuracy (Doğruluk): 0.87\n",
        "\n",
        "- Sonuç\n",
        "Gradient Boosting Classifier en iyi genel performansı gösteriyor. Ancak, XGBoost ve Random Forest da iyi sonuçlar vermektedir. Uygulamada, model seçimi yaparken doğruluk, duyarlılık ve f1-score gibi metrikler dikkate alınmalıdır. Ayrıca, modelin açıklanabilirliği, eğitim süresi ve tahmin süresi gibi diğer faktörler de göz önünde bulundurulmalıdır."
      ],
      "metadata": {
        "id": "j8xeT8mqzUhO"
      }
    },
    {
      "cell_type": "markdown",
      "source": [],
      "metadata": {
        "id": "GgGyBtjvzUhO"
      }
    },
    {
      "cell_type": "markdown",
      "source": [],
      "metadata": {
        "id": "ZU2oFtWnzUhO"
      }
    },
    {
      "cell_type": "code",
      "source": [],
      "metadata": {
        "id": "ITmBI1HUzUhO"
      },
      "execution_count": null,
      "outputs": []
    },
    {
      "cell_type": "markdown",
      "source": [],
      "metadata": {
        "id": "fvXauI_LzUhP"
      }
    }
  ]
}